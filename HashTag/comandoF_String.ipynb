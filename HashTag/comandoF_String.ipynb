{
 "cells": [
  {
   "cell_type": "code",
   "execution_count": 3,
   "metadata": {},
   "outputs": [
    {
     "name": "stdout",
     "output_type": "stream",
     "text": [
      "o faturamento da loja foi 2000R$ o custo da loja foi 500R$ e o lucro da loja foi 1500R$ \n"
     ]
    }
   ],
   "source": [
    "faturamento = 2000\n",
    "custo = 500\n",
    "lucro = faturamento - custo\n",
    "print(f'o faturamento da loja foi {faturamento}R$ o custo da loja foi {custo}R$ e o lucro da loja foi {lucro}R$ ')"
   ]
  }
 ],
 "metadata": {
  "kernelspec": {
   "display_name": "Python 3",
   "language": "python",
   "name": "python3"
  },
  "language_info": {
   "codemirror_mode": {
    "name": "ipython",
    "version": 3
   },
   "file_extension": ".py",
   "mimetype": "text/x-python",
   "name": "python",
   "nbconvert_exporter": "python",
   "pygments_lexer": "ipython3",
   "version": "3.12.2"
  }
 },
 "nbformat": 4,
 "nbformat_minor": 2
}
