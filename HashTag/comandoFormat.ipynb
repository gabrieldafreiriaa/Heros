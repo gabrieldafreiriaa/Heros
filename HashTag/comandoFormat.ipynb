{
 "cells": [
  {
   "cell_type": "code",
   "execution_count": 8,
   "metadata": {},
   "outputs": [
    {
     "name": "stdout",
     "output_type": "stream",
     "text": [
      "o faturamento mensal foi 100\n",
      "o custo foi 500\n",
      "e o lucro foi -400\n"
     ]
    }
   ],
   "source": [
    "faturamento = 100\n",
    "custo = 500\n",
    "lucro = faturamento - custo \n",
    "print ('o faturamento mensal foi ' + str(faturamento))\n",
    "print ('o custo foi ' + str(custo))\n",
    "print ('e o lucro foi ' + str(lucro))"
   ]
  },
  {
   "cell_type": "code",
   "execution_count": 12,
   "metadata": {},
   "outputs": [
    {
     "name": "stdout",
     "output_type": "stream",
     "text": [
      "o faturamento da loja foi, 2000 o custo da loja foi 500 e o lucro da loja foi 1500 \n"
     ]
    }
   ],
   "source": [
    "faturamento = 2000\n",
    "custo = 500\n",
    "lucro = faturamento - custo\n",
    "print('o faturamento da loja foi, {} o custo da loja foi {} e o lucro da loja foi {} ' .format(faturamento, custo, lucro))"
   ]
  }
 ],
 "metadata": {
  "kernelspec": {
   "display_name": "Python 3",
   "language": "python",
   "name": "python3"
  },
  "language_info": {
   "codemirror_mode": {
    "name": "ipython",
    "version": 3
   },
   "file_extension": ".py",
   "mimetype": "text/x-python",
   "name": "python",
   "nbconvert_exporter": "python",
   "pygments_lexer": "ipython3",
   "version": "3.12.2"
  }
 },
 "nbformat": 4,
 "nbformat_minor": 2
}
